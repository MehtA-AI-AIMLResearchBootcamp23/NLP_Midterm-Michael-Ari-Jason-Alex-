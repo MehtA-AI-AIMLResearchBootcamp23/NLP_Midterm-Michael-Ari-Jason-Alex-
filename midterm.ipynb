{
  "nbformat": 4,
  "nbformat_minor": 0,
  "metadata": {
    "colab": {
      "provenance": [],
      "gpuType": "T4",
      "include_colab_link": true
    },
    "kernelspec": {
      "name": "python3",
      "display_name": "Python 3"
    },
    "language_info": {
      "name": "python"
    },
    "accelerator": "GPU"
  },
  "cells": [
    {
      "cell_type": "markdown",
      "metadata": {
        "id": "view-in-github",
        "colab_type": "text"
      },
      "source": [
        "<a href=\"https://colab.research.google.com/github/MehtA-AI-AIMLResearchBootcamp23/NLP_Midterm-Michael-Ari-Jason-Alex-/blob/main/midterm.ipynb\" target=\"_parent\"><img src=\"https://colab.research.google.com/assets/colab-badge.svg\" alt=\"Open In Colab\"/></a>"
      ]
    },
    {
      "cell_type": "code",
      "source": [
        "#Drive\n",
        "from google.colab import drive\n",
        "drive.mount('/content/drive')"
      ],
      "metadata": {
        "id": "8LQRyNBSbyw9",
        "colab": {
          "base_uri": "https://localhost:8080/"
        },
        "outputId": "e694e167-b6cb-4f47-94ab-2c42e2efbab8"
      },
      "execution_count": null,
      "outputs": [
        {
          "output_type": "stream",
          "name": "stdout",
          "text": [
            "Drive already mounted at /content/drive; to attempt to forcibly remount, call drive.mount(\"/content/drive\", force_remount=True).\n"
          ]
        }
      ]
    },
    {
      "cell_type": "code",
      "source": [
        "#Import\n",
        "import gensim\n",
        "import gensim.downloader as api\n",
        "import re\n",
        "import nltk\n",
        "from nltk.corpus import words\n",
        "from nltk.corpus import stopwords\n",
        "import pandas as pd\n",
        "import numpy as np\n",
        "import os\n",
        "from sklearn.feature_extraction.text import CountVectorizer, TfidfVectorizer\n",
        "from scipy.spatial.distance import cosine"
      ],
      "metadata": {
        "id": "U5oCFqggz-TV"
      },
      "execution_count": null,
      "outputs": []
    },
    {
      "cell_type": "code",
      "source": [
        "#Reads Files\n",
        "directory = \"/content/drive/MyDrive/Classroom/'23 MehtA+ AI ML Research Bootcamp/Group Work/week3/texts\"\n",
        "\n",
        "all_texts = []\n",
        "all_file_names = []\n",
        "for filename in os.listdir(directory):\n",
        "  if '.txt' in filename:\n",
        "    all_file_names.append(filename)\n",
        "all_file_names = sorted(all_file_names)\n",
        "\n",
        "for filename in all_file_names:\n",
        "  file_path = os.path.join(directory, filename)\n",
        "  file1 = open(file_path, \"r\")\n",
        "  cons_text = file1.read()\n",
        "  all_texts.append(cons_text)"
      ],
      "metadata": {
        "id": "Zra5ze69b0e3"
      },
      "execution_count": null,
      "outputs": []
    },
    {
      "cell_type": "code",
      "source": [
        "#Creates a full dataframe\n",
        "texts_df = pd.DataFrame(all_texts, columns =['Texts'])\n",
        "filenames_df = pd.DataFrame(all_file_names, columns = [\"FileName\"])\n",
        "full_training_data = pd.concat([filenames_df, texts_df], axis = 1) # Full data with texts & names"
      ],
      "metadata": {
        "id": "E2rPW3NKb4Ht"
      },
      "execution_count": null,
      "outputs": []
    },
    {
      "cell_type": "markdown",
      "source": [
        "Preprocessing"
      ],
      "metadata": {
        "id": "RUJJtvhw4VMJ"
      }
    },
    {
      "cell_type": "code",
      "source": [
        "def preprocessing(doc):\n",
        "  newdoc = ''\n",
        "  doc = doc.lower()\n",
        "  doc = str(doc)\n",
        "  for word in doc.strip().split():\n",
        "    for character in word:\n",
        "      if character in '.,<>!@#$%^&*()/?;:\\'\\\"[{]}=+-_\\|:’`':\n",
        "        no_punc = word.replace(character,'')\n",
        "        doc = doc.replace(word, no_punc)\n",
        "        word = no_punc\n",
        "      elif character not in \"abcdefghijklmnopqrstuvwxyz \":\n",
        "        doc = doc.replace(word,'')\n",
        "        break\n",
        "    if(not re.match('[^\\d\\W]+[a-z][a-z]',word) or len(word) < 3 or 'http' in word):\n",
        "      doc = doc.replace(word,'')\n",
        "      continue\n",
        "    else:\n",
        "      newdoc = newdoc + \" \" + word\n",
        "  return newdoc"
      ],
      "metadata": {
        "id": "ajLwQ-potW4e"
      },
      "execution_count": null,
      "outputs": []
    },
    {
      "cell_type": "code",
      "source": [
        "full_training_data[\"Texts\"] = full_training_data[\"Texts\"].apply(preprocessing)"
      ],
      "metadata": {
        "id": "eSnXxe4m5Zia"
      },
      "execution_count": null,
      "outputs": []
    },
    {
      "cell_type": "code",
      "source": [
        "#Prints out file names with index numbers next to them to reference for later inquiries\n",
        "for i in range(48):\n",
        "  print(i, str(full_training_data.loc[i,\"FileName\"].strip()))"
      ],
      "metadata": {
        "colab": {
          "base_uri": "https://localhost:8080/"
        },
        "id": "y97OJiw6_REI",
        "outputId": "e5b3e3da-2282-4e19-c87f-0f5cd23d1a8d"
      },
      "execution_count": null,
      "outputs": [
        {
          "output_type": "stream",
          "name": "stdout",
          "text": [
            "0 Permanent magnets reduce bycatch of benthic sharks in an ocean trap fishery.txt\n",
            "1 Population Changes of Brown Long-Eared Bats (Plecotus auritus) in Bat Boxes at Thetford Forest.txt\n",
            "2 Predator-Resembling Aversive Conditioning for Managing Habituated Wildlife.txt\n",
            "3 Preferences for different flagship types in fundraising for nature  conservation .txt\n",
            "4 Preventing crop raiding by the Vulnerable common hippopotamus Hippopotamus amphibius in Guinea-Bissau.txt\n",
            "5 Propane exploders and Electronic Guards were ineffective at reducing deer damage in cornfields.txt\n",
            "6 Re-assessing the effectiveness of wire-marking to mitigate bird collisions with power lines_ A meta-analysis and guidelines for field studies.txt\n",
            "7 Reactions of Free-Ranging Black Bears to Capsaicin Spray Repellent .txt\n",
            "8 Real-time feedback promotes energy conservation in the absence of volunteer selection bias and monetary incentives.txt\n",
            "9 Reducing Mammalian Predation on Eggs by Using a Conditioned Taste Aversion to Deceive Predators.txt\n",
            "10 Reducing elasmobranch bycatch_ Laboratory investigation of rare earth metal and magnetic deterrents with spiny dogfish and Pacific halibut.txt\n",
            "11 Reducing nontarget recaptures of an endangered predator using conditioned aversion and reward removal.txt\n",
            "12 Relative Effectiveness of Repellents for Reducing Mule Deer Damage.txt\n",
            "13 Responses of Little Brown Myotis to Exclusion and to Bat Houses.txt\n",
            "14 Riparian Reserves Promote Insectivorous Bat Activity in Oil Palm Dominated Landscapes.txt\n",
            "15 Social Network Analysis of Animal Behavior.txt\n",
            "16 Social attraction used to establish Caspian tern nesting.txt\n",
            "17 Social influence approaches to encourage resource conservation_ A meta-analysis. .txt\n",
            "18 Social structure of three sympatric bat species (Vespertilionidae).txt\n",
            "19 Someplace_like_home_Experience_habitat_selection_a.txt\n",
            "20 Sound transmission in a bamboo forest and its implications for information transfer in giant panda (Ailuropoda melanoleuca) bleats.txt\n",
            "21 Strategic advertising of online news articles as an intervention to influence wildlife product consumers.txt\n",
            "22 TERRESTRIAL MAMMAL  CONSERVATION.txt\n",
            "23 TRAINING DEER TO AVOID SITES THROUGH NEGATIVE REINFORCEMENT REINFORCEMENT.txt\n",
            "24 Taste-Aversion Conditioning to Reduce Nuisance Activity by Black Bears in a Minnesota Military Reservation.txt\n",
            "25 Testing Fladry as a Nonlethal Management Tool for Wolves and Coyo.txt\n",
            "26 Testing a novel multicomponent intervention to reduce meat consumption in young men.txt\n",
            "27 The Constructive, Destructive, and.txt\n",
            "28 The Effectiveness of Models and Prompts on Waste Diversion_ A Field Experiment on Composting by Cafeteria Patrons.txt\n",
            "29 The Rules of Attraction.txt\n",
            "30 The ecological and evolutionary consequences of.txt\n",
            "31 The effects of anthropogenic noise on animals_ a meta-analysis.txt\n",
            "32 The interaction of descriptive and injunctive social.txt\n",
            "33 The value of bat-boxes in the conservation of Pipistrellus pygmaeus in wetland rice paddies.txt\n",
            "34 The value of ‘bat boxes’ for attracting hollow_dependent fauna to farm forestry plantations in southeast Queensland.txt\n",
            "35 Tigers and Wolves in the Russian Far East_ Competitive Exclusion, Functional Redundancy, and Conservation Implications.txt\n",
            "36 UNDERSTANDING WIND ENERGY IMPACTS ON BATS AND TESTING  REDUCTION STRATEGIES IN SOUTH TEXAS.txt\n",
            "37 Ultraviolet-reflective film applied to windows reduces the likelihood of collisions for two species of songbird.txt\n",
            "38 Unmanned aerial vehicles mitigate human–elephant conflict on the borders of Tanzanian Parks_ a case study.txt\n",
            "39 Uptake and performance of farm-based measures for reducing crop raiding by elephants Loxodonta africana among smallholder farms in Laikipia District, Kenya.txt\n",
            "40 Use of Artificial Roost Structures by Bats at the Indianapolis International Airport.txt\n",
            "41 Use of Artificial Roosts by Forest-Dwelling Bats in Northern Arizona.txt\n",
            "42 Using Electric Fences to Reduce Asiatic Black Bear Depredation in Nagano Prefecture, Central Japan.txt\n",
            "43 Utilization of artificial shelters by bats (Chiroptera) in three different  types of forest.txt\n",
            "44 WEAVER-DISSERTATION-2019.txt\n",
            "45 Who eats wild meat  Profiling consumers in Ho Chi Minh City  Vietnam.txt\n",
            "46 Wildlife Society Bulletin - 2019 - Romano - Evaluation of an acoustic deterrent to reduce bat mortalities at an Illinois.txt\n",
            "47 Wolf Depredation Trends and the Use of Fladry Barriers to Protect Livestock in Western North America.txt\n"
          ]
        }
      ]
    },
    {
      "cell_type": "markdown",
      "source": [
        "Doc2Vec"
      ],
      "metadata": {
        "id": "ZFN_65sC4Ttn"
      }
    },
    {
      "cell_type": "code",
      "source": [
        "#Training Doc2Vec Model\n",
        "dataset = api.load(\"text8\")\n",
        "data = [d for d in dataset]\n",
        "def tagged_document(list_of_list_of_words):\n",
        "   for index, list_of_words in enumerate(list_of_list_of_words):\n",
        "      yield gensim.models.doc2vec.TaggedDocument(list_of_words, [index])\n",
        "\n",
        "#training and building the model\n",
        "data_training = list(tagged_document(full_training_data[\"Texts\"]))\n",
        "docvecmodel = gensim.models.doc2vec.Doc2Vec(vector_size=40, min_count=2, epochs=100)\n",
        "docvecmodel.build_vocab(data_training)\n",
        "docvecmodel.train(data_training, total_examples=docvecmodel.corpus_count, epochs = docvecmodel.epochs)"
      ],
      "metadata": {
        "id": "DCWfi8vW4Jz8",
        "colab": {
          "base_uri": "https://localhost:8080/"
        },
        "outputId": "2576b6d4-0023-45c3-f76f-8db0ded49360"
      },
      "execution_count": null,
      "outputs": [
        {
          "output_type": "stream",
          "name": "stderr",
          "text": [
            "WARNING:gensim.models.doc2vec:Each 'words' should be a list of words (usually unicode strings). First 'words' here is instead plain <class 'str'>.\n"
          ]
        }
      ]
    },
    {
      "cell_type": "code",
      "source": [
        "#Doc2Vec asking for similarity\n",
        "def ask_docvec():\n",
        "  num1 = int(input(\"What document number do you want similar documents for?\\n\"))\n",
        "  darray3 = docvecmodel.dv.most_similar(num1)\n",
        "  print(\"\\n\\nDoc\",full_training_data.loc[num1,\"FileName\"].strip(), \"Similarities\")\n",
        "  for coord in range(5):\n",
        "    print(full_training_data.loc[darray3[coord][0],\"FileName\"].strip())"
      ],
      "metadata": {
        "id": "FjIyb62H4QVD"
      },
      "execution_count": null,
      "outputs": []
    },
    {
      "cell_type": "code",
      "source": [
        "ask_docvec()"
      ],
      "metadata": {
        "id": "nI5uwOvW5PAq",
        "colab": {
          "base_uri": "https://localhost:8080/"
        },
        "outputId": "1ff637ac-1a4c-4de7-e151-4c2e6955ac56"
      },
      "execution_count": null,
      "outputs": [
        {
          "output_type": "stream",
          "name": "stdout",
          "text": [
            "What document number do you want similar documents for?\n",
            "34\n",
            "\n",
            "\n",
            "Doc The value of ‘bat boxes’ for attracting hollow_dependent fauna to farm forestry plantations in southeast Queensland.txt Similarities\n",
            "The value of bat-boxes in the conservation of Pipistrellus pygmaeus in wetland rice paddies.txt\n",
            "Someplace_like_home_Experience_habitat_selection_a.txt\n",
            "The Rules of Attraction.txt\n",
            "Use of Artificial Roost Structures by Bats at the Indianapolis International Airport.txt\n",
            "Responses of Little Brown Myotis to Exclusion and to Bat Houses.txt\n"
          ]
        }
      ]
    },
    {
      "cell_type": "markdown",
      "source": [
        "Bag of Words"
      ],
      "metadata": {
        "id": "eJwVyClq0IEy"
      }
    },
    {
      "cell_type": "code",
      "source": [
        "#Bag of Words defined\n",
        "def bagOfWords(full_training_data):\n",
        "  vectorizer = CountVectorizer(lowercase = True, stop_words='english', strip_accents='ascii', token_pattern=r'\\b[^\\d\\W]+[a-z][a-z]\\b', min_df=0.021, max_df=0.9, ngram_range=(1,1))\n",
        "  vector = vectorizer.fit_transform(full_training_data[\"Texts\"])\n",
        "  vector_array = vector.toarray()\n",
        "  return vector_array"
      ],
      "metadata": {
        "id": "SxdYqHLPb-lb"
      },
      "execution_count": null,
      "outputs": []
    },
    {
      "cell_type": "code",
      "source": [
        "vector_array = bagOfWords(full_training_data)"
      ],
      "metadata": {
        "id": "oU032XNM5KN1"
      },
      "execution_count": null,
      "outputs": []
    },
    {
      "cell_type": "code",
      "source": [
        "# cosine similarity function (between two documents)\n",
        "def doc_sim(number1, number2):\n",
        "  return 1-cosine(vector_array[number1],vector_array[number2])"
      ],
      "metadata": {
        "id": "7PjJN2wFcBeP"
      },
      "execution_count": null,
      "outputs": []
    },
    {
      "cell_type": "code",
      "source": [
        "# iterating through every document and finding the document that is most similar to it\n",
        "def doc_comparison():\n",
        "  doc_1 = int(input(\"What document number do you want similar documents for?\\n\"))\n",
        "  base_num = [0,0,0,0,0]\n",
        "  index_num = [0,0,0,0,0]\n",
        "  for doc_2 in range(48):\n",
        "    if doc_1 == doc_2:\n",
        "      continue\n",
        "    accuracy = doc_sim(doc_1, doc_2)\n",
        "    for top in range(5):\n",
        "      if accuracy > base_num[top]:\n",
        "        base_num[top] = accuracy\n",
        "        index_num[top] = doc_2\n",
        "        break\n",
        "  print(\"\\n\\nDoc\",full_training_data.loc[doc_1,\"FileName\"].strip(), \"Similarities\")\n",
        "  for l in range(5):\n",
        "    print(\" -\",l,str(full_training_data.loc[index_num[l],\"FileName\"].strip()))"
      ],
      "metadata": {
        "id": "IHYu1tHccDw0"
      },
      "execution_count": null,
      "outputs": []
    },
    {
      "cell_type": "code",
      "source": [
        "doc_comparison()"
      ],
      "metadata": {
        "colab": {
          "base_uri": "https://localhost:8080/"
        },
        "id": "y2SrgXP-gizx",
        "outputId": "40220fe1-4798-42a6-c72b-042ce6f8fabe"
      },
      "execution_count": null,
      "outputs": [
        {
          "output_type": "stream",
          "name": "stdout",
          "text": [
            "What document number do you want similar documents for?44\n",
            "\n",
            "\n",
            "Doc WEAVER-DISSERTATION-2019.txt Similarities\n",
            " - 0 UNDERSTANDING WIND ENERGY IMPACTS ON BATS AND TESTING  REDUCTION STRATEGIES IN SOUTH TEXAS.txt\n",
            " - 1 Wildlife Society Bulletin - 2019 - Romano - Evaluation of an acoustic deterrent to reduce bat mortalities at an Illinois.txt\n",
            " - 2 Use of Artificial Roost Structures by Bats at the Indianapolis International Airport.txt\n",
            " - 3 Utilization of artificial shelters by bats (Chiroptera) in three different  types of forest.txt\n",
            " - 4 The interaction of descriptive and injunctive social.txt\n"
          ]
        }
      ]
    }
  ]
}